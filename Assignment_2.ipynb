{
 "cells": [
  {
   "cell_type": "markdown",
   "id": "f5c4072e-82c0-454c-8241-77fb45f452b2",
   "metadata": {},
   "source": [
    "## Assignment 2\n"
   ]
  },
  {
   "cell_type": "code",
   "execution_count": 178,
   "id": "f9ad7174-5647-4745-ad5e-072629c86599",
   "metadata": {},
   "outputs": [
    {
     "name": "stdout",
     "output_type": "stream",
     "text": [
      "['Mercury', 'Venus', 'Earth', 'Mars', 'Jupiter', 'Saturn', 'Neptune', 'Uranus']\n"
     ]
    }
   ],
   "source": [
    "# Part 1\n",
    "# 1. Create a list with the names of every planet in our solar system, in order\n",
    "planets = [\"Mercury\", \"Venus\", \"Earth\", \"Mars\", \"Jupiter\", \"Saturn\", \"Neptune\", \"Uranus\"]\n",
    "print(planets)"
   ]
  },
  {
   "cell_type": "code",
   "execution_count": 179,
   "id": "9f82764c-6916-4401-aba4-3ce3832131d6",
   "metadata": {},
   "outputs": [
    {
     "data": {
      "text/plain": [
       "8"
      ]
     },
     "execution_count": 179,
     "metadata": {},
     "output_type": "execute_result"
    }
   ],
   "source": [
    "# 2. Have Python tell you how many planets there are by examining your list\n",
    "len(planets)"
   ]
  },
  {
   "cell_type": "code",
   "execution_count": 180,
   "id": "a45cec85-b1aa-47d9-aeca-135c8e8522ff",
   "metadata": {},
   "outputs": [
    {
     "data": {
      "text/plain": [
       "['Mercury', 'Venus', 'Earth', 'Mars']"
      ]
     },
     "execution_count": 180,
     "metadata": {},
     "output_type": "execute_result"
    }
   ],
   "source": [
    "# 3. Use slicing to display the first four (rocky) planets\n",
    "planets[0:4]"
   ]
  },
  {
   "cell_type": "code",
   "execution_count": 181,
   "id": "1db279fa-4f9e-48bf-9875-8465af7fd9f8",
   "metadata": {},
   "outputs": [
    {
     "name": "stdout",
     "output_type": "stream",
     "text": [
      "Venus\n",
      "Mars\n",
      "Uranus\n"
     ]
    }
   ],
   "source": [
    "# 4. Iterate through your planets and print the planet name only if it has an 's' at the end\n",
    "for i in planets:\n",
    "    if i[-1] == 's':\n",
    "        print(i)"
   ]
  },
  {
   "cell_type": "code",
   "execution_count": 182,
   "id": "aa40baab-3330-4717-8dfe-3f6aae99dcf7",
   "metadata": {},
   "outputs": [],
   "source": [
    "# Part 2\n",
    "# 1. Write a function to convert temperature from Kelvin to Celcius\n",
    "def k_to_c(temp):\n",
    "    \"\"\" Returns temperature in celcius \"\"\"\n",
    "    if temp >= 0:\n",
    "        return f\"{temp-273.15:.2f}°C\" # Formatting result to 2 decimal places\n",
    "    else:\n",
    "        return \"Invalid Input\""
   ]
  },
  {
   "cell_type": "code",
   "execution_count": 183,
   "id": "44b4c844-7b06-409e-8395-230ff2fe7264",
   "metadata": {},
   "outputs": [
    {
     "data": {
      "text/plain": [
       "'Invalid Input'"
      ]
     },
     "execution_count": 183,
     "metadata": {},
     "output_type": "execute_result"
    }
   ],
   "source": [
    "k_to_c(-1)"
   ]
  },
  {
   "cell_type": "code",
   "execution_count": 184,
   "id": "9e359067-a1e8-4e90-9659-d6801a983382",
   "metadata": {},
   "outputs": [
    {
     "data": {
      "text/plain": [
       "'-173.15°C'"
      ]
     },
     "execution_count": 184,
     "metadata": {},
     "output_type": "execute_result"
    }
   ],
   "source": [
    "k_to_c(100)"
   ]
  },
  {
   "cell_type": "code",
   "execution_count": 185,
   "id": "15830aec-b79c-4a3a-a1b2-967fa3b0d529",
   "metadata": {},
   "outputs": [],
   "source": [
    "# 2. Write a function that converts temperature to Fahrenheit\n",
    "def fahrenheit(temp, celcius = False):\n",
    "    \"\"\" Returns a temperature in Fahrenheit; conditional for celcius/kelvin \"\"\"\n",
    "    if celcius == False:\n",
    "        if temp >= 0:\n",
    "            return f\"{(temp-273.15)*(9/5)+32:.2f}°F\"\n",
    "        else:\n",
    "            return \"Invalid Input\"\n",
    "    else:\n",
    "        if temp >= -273.15:\n",
    "            return f\"{temp*(9/5)+32:.2f}°F\"\n",
    "        else:\n",
    "            return \"Invalid Input\""
   ]
  },
  {
   "cell_type": "code",
   "execution_count": 186,
   "id": "675f2ee8-ffcc-4749-9570-ee081d2ae3e9",
   "metadata": {},
   "outputs": [
    {
     "data": {
      "text/plain": [
       "'-99.67°F'"
      ]
     },
     "execution_count": 186,
     "metadata": {},
     "output_type": "execute_result"
    }
   ],
   "source": [
    "# 3. Check that the outputs are sensible\n",
    "fahrenheit(200)"
   ]
  },
  {
   "cell_type": "code",
   "execution_count": 187,
   "id": "e71b13f5-3585-4069-94ab-8807ca011bc5",
   "metadata": {},
   "outputs": [
    {
     "data": {
      "text/plain": [
       "'Invalid Input'"
      ]
     },
     "execution_count": 187,
     "metadata": {},
     "output_type": "execute_result"
    }
   ],
   "source": [
    "fahrenheit(-1)"
   ]
  },
  {
   "cell_type": "code",
   "execution_count": 188,
   "id": "63c46ae1-eb15-4358-96a8-39fda905d38e",
   "metadata": {},
   "outputs": [
    {
     "data": {
      "text/plain": [
       "'392.00°F'"
      ]
     },
     "execution_count": 188,
     "metadata": {},
     "output_type": "execute_result"
    }
   ],
   "source": [
    "fahrenheit(200, celcius = True)"
   ]
  },
  {
   "cell_type": "code",
   "execution_count": 189,
   "id": "a34761d8-9ddb-4b3e-baf3-949e3f2307b0",
   "metadata": {},
   "outputs": [
    {
     "data": {
      "text/plain": [
       "'Invalid Input'"
      ]
     },
     "execution_count": 189,
     "metadata": {},
     "output_type": "execute_result"
    }
   ],
   "source": [
    "fahrenheit(-300, celcius = True)"
   ]
  },
  {
   "cell_type": "code",
   "execution_count": 190,
   "id": "14622bcb-e53f-4870-b873-97bd567534e2",
   "metadata": {},
   "outputs": [
    {
     "data": {
      "text/plain": [
       "'59.00°F'"
      ]
     },
     "execution_count": 190,
     "metadata": {},
     "output_type": "execute_result"
    }
   ],
   "source": [
    "fahrenheit(15, celcius = True)"
   ]
  },
  {
   "cell_type": "code",
   "execution_count": 191,
   "id": "a7b9dbfd-a757-44d7-9a75-dc5f4b2ce348",
   "metadata": {},
   "outputs": [],
   "source": [
    "# 4. Write a function that converts to Fahrenheit\n",
    "def temp_convert(temp, tempfrom, tempto):\n",
    "    \"\"\" Converts temperature from one unit to another based on other inputs \"\"\"\n",
    "    if tempfrom == \"C\" or tempfrom == \"c\":\n",
    "        if tempto == \"K\" or tempto == \"k\":\n",
    "            return f\"{temp+273.15:.2f}K\"\n",
    "        else: \n",
    "            return f\"{temp*(9/5)+32:.2f}°F\"\n",
    "    elif tempfrom == \"F\" or tempfrom == \"f\":\n",
    "        if tempto == \"K\" or tempto == \"k\":\n",
    "            return f\"{(temp-32)*(5/9)+273.15:.2f}K\"\n",
    "        else:\n",
    "            return f\"{(temp-32)*(5/9):.2f}°C\"\n",
    "    elif tempfrom == \"K\" or tempfrom == \"k\":\n",
    "        if tempto == \"C\" or tempto == \"c\":\n",
    "            return f\"{temp-273.15:.2f}°C\"\n",
    "        else:\n",
    "            return f\"{(temp-273.15)*(9/5)+32:.2f}°F\""
   ]
  },
  {
   "cell_type": "code",
   "execution_count": 192,
   "id": "25ea9c6c-2250-4267-a41d-2a53f1d4fcdc",
   "metadata": {},
   "outputs": [
    {
     "data": {
      "text/plain": [
       "'-273.15°C'"
      ]
     },
     "execution_count": 192,
     "metadata": {},
     "output_type": "execute_result"
    }
   ],
   "source": [
    "temp_convert(0, \"K\", \"C\")"
   ]
  },
  {
   "cell_type": "code",
   "execution_count": 193,
   "id": "f84c5e1c-d64b-492e-939d-5a313475c147",
   "metadata": {},
   "outputs": [
    {
     "data": {
      "text/plain": [
       "'37.78°C'"
      ]
     },
     "execution_count": 193,
     "metadata": {},
     "output_type": "execute_result"
    }
   ],
   "source": [
    "temp_convert(100, \"F\", \"C\")"
   ]
  },
  {
   "cell_type": "code",
   "execution_count": 194,
   "id": "8df24339-a617-4824-8d72-145dffd9b669",
   "metadata": {},
   "outputs": [
    {
     "data": {
      "text/plain": [
       "'304.26K'"
      ]
     },
     "execution_count": 194,
     "metadata": {},
     "output_type": "execute_result"
    }
   ],
   "source": [
    "temp_convert(88, \"f\", \"K\")"
   ]
  },
  {
   "cell_type": "code",
   "execution_count": 195,
   "id": "51c53bbb-f6ae-46fb-9a34-e8d157a60e2f",
   "metadata": {},
   "outputs": [
    {
     "data": {
      "text/plain": [
       "'75.20°F'"
      ]
     },
     "execution_count": 195,
     "metadata": {},
     "output_type": "execute_result"
    }
   ],
   "source": [
    "temp_convert(24, \"C\", \"f\")"
   ]
  },
  {
   "cell_type": "code",
   "execution_count": 196,
   "id": "626811cd-d4ab-44a7-b865-71df6689ebf4",
   "metadata": {},
   "outputs": [
    {
     "data": {
      "text/plain": [
       "'348.15K'"
      ]
     },
     "execution_count": 196,
     "metadata": {},
     "output_type": "execute_result"
    }
   ],
   "source": [
    "temp_convert(75, \"c\", \"k\")"
   ]
  },
  {
   "cell_type": "code",
   "execution_count": 197,
   "id": "8afd2b08-8c98-41e8-9d50-e409b882df56",
   "metadata": {},
   "outputs": [
    {
     "data": {
      "text/plain": [
       "'1799540.33°F'"
      ]
     },
     "execution_count": 197,
     "metadata": {},
     "output_type": "execute_result"
    }
   ],
   "source": [
    "temp_convert(1000000, \"K\", \"F\")"
   ]
  },
  {
   "cell_type": "code",
   "execution_count": 198,
   "id": "45112770-25d2-4e19-92e5-31946412b1f2",
   "metadata": {},
   "outputs": [],
   "source": [
    "# 5. Now write a function that take two arguments (feet and inches) \n",
    "# and returns height in meters\n",
    "def height_in_m(feet, inches):\n",
    "    \"\"\" Converts input to height in meters \"\"\"\n",
    "    meters = round((feet * 0.3048) + (inches * 0.0254), 3)\n",
    "    return meters"
   ]
  },
  {
   "cell_type": "code",
   "execution_count": 199,
   "id": "246bcacf-5a65-4923-9c42-0ff329943d00",
   "metadata": {},
   "outputs": [
    {
     "name": "stdout",
     "output_type": "stream",
     "text": [
      "You are 1.905 meters tall.\n"
     ]
    }
   ],
   "source": [
    "height = height_in_m(6, 3)\n",
    "print(f\"You are {height} meters tall.\")"
   ]
  },
  {
   "cell_type": "code",
   "execution_count": 200,
   "id": "43220c5e-68a8-4b4b-a404-e435f559a303",
   "metadata": {},
   "outputs": [
    {
     "name": "stdout",
     "output_type": "stream",
     "text": [
      "You are 1.651 meters tall.\n"
     ]
    }
   ],
   "source": [
    "height = height_in_m(5, 5)\n",
    "print(f\"You are {height} meters tall.\")"
   ]
  },
  {
   "cell_type": "code",
   "execution_count": 201,
   "id": "a0572209-1685-4c84-ab2f-72610f8a5322",
   "metadata": {},
   "outputs": [
    {
     "name": "stdout",
     "output_type": "stream",
     "text": [
      "You are 1.778 meters tall.\n"
     ]
    }
   ],
   "source": [
    "height = height_in_m(5, 10)\n",
    "print(f\"You are {height} meters tall.\")"
   ]
  },
  {
   "cell_type": "code",
   "execution_count": 202,
   "id": "ce77c70f-2dca-4b0a-8e0a-4a8f7604e1c8",
   "metadata": {},
   "outputs": [],
   "source": [
    "# 6. Write a function that takes one argument (height in meters) and returns\n",
    "# two arguments (feet and inches)\n",
    "def height_in_ft(meters):\n",
    "    \"\"\"Converts input in meters to output in feet and inches.\"\"\"\n",
    "    feet = int(meters // 0.3048)\n",
    "    rem = meters % 0.3048\n",
    "    inches = round(rem / 0.0254, 2)\n",
    "    return [feet, inches]"
   ]
  },
  {
   "cell_type": "code",
   "execution_count": 203,
   "id": "134391f6-525f-452b-b873-7b9dc3d26130",
   "metadata": {},
   "outputs": [
    {
     "name": "stdout",
     "output_type": "stream",
     "text": [
      "You are 6 feet and 3.0 inches tall.\n"
     ]
    }
   ],
   "source": [
    "height1 = height_in_ft(1.905)\n",
    "print(f\"You are {height1[0]} feet and {height1[1]} inches tall.\")"
   ]
  },
  {
   "cell_type": "code",
   "execution_count": 204,
   "id": "d0c9e294-513f-44c8-8709-00f78d0120c3",
   "metadata": {},
   "outputs": [
    {
     "name": "stdout",
     "output_type": "stream",
     "text": [
      "You are 5 feet and 5.0 inches tall.\n"
     ]
    }
   ],
   "source": [
    "height2 = height_in_ft(1.651)\n",
    "print(f\"You are {height2[0]} feet and {height2[1]} inches tall.\")"
   ]
  },
  {
   "cell_type": "code",
   "execution_count": 205,
   "id": "76630078-bfa6-4fc0-b230-398bdad20b68",
   "metadata": {},
   "outputs": [
    {
     "name": "stdout",
     "output_type": "stream",
     "text": [
      "You are 5 feet and 10.0 inches tall.\n"
     ]
    }
   ],
   "source": [
    "height3 = height_in_ft(1.778)\n",
    "print(f\"You are {height3[0]} feet and {height3[1]} inches tall.\")"
   ]
  },
  {
   "cell_type": "code",
   "execution_count": 206,
   "id": "da0d0dc1-43a7-4396-ae6b-fa50960f09df",
   "metadata": {},
   "outputs": [
    {
     "name": "stdout",
     "output_type": "stream",
     "text": [
      "You are 1.905 meters tall, or about 6 feet and 3.0 inches tall.\n"
     ]
    }
   ],
   "source": [
    "heightA = height_in_m(height1[0], height1[1])\n",
    "print(f\"You are {heightA} meters tall, or about {height1[0]} feet and {height1[1]} inches tall.\")"
   ]
  },
  {
   "cell_type": "code",
   "execution_count": 207,
   "id": "40383bef-5fc5-4fa0-882c-3c6969c2018a",
   "metadata": {},
   "outputs": [
    {
     "name": "stdout",
     "output_type": "stream",
     "text": [
      "You are 1.651 meters tall, or about 5 feet and 5.0 inches tall.\n"
     ]
    }
   ],
   "source": [
    "heightB = height_in_m(height2[0], height2[1])\n",
    "print(f\"You are {heightB} meters tall, or about {height2[0]} feet and {height2[1]} inches tall.\")"
   ]
  },
  {
   "cell_type": "code",
   "execution_count": 208,
   "id": "a1ecc3ef-d8fd-4a0d-8b5c-b0623d4475f8",
   "metadata": {},
   "outputs": [
    {
     "name": "stdout",
     "output_type": "stream",
     "text": [
      "You are 1.778 meters tall, or about 5 feet and 10.0 inches tall.\n"
     ]
    }
   ],
   "source": [
    "heightC = height_in_m(height3[0], height3[1])\n",
    "print(f\"You are {heightC} meters tall, or about {height3[0]} feet and {height3[1]} inches tall.\")"
   ]
  },
  {
   "cell_type": "code",
   "execution_count": 209,
   "id": "788c2f30-cccd-4742-8d35-a286393c413b",
   "metadata": {},
   "outputs": [
    {
     "data": {
      "text/plain": [
       "1.905"
      ]
     },
     "execution_count": 209,
     "metadata": {},
     "output_type": "execute_result"
    }
   ],
   "source": [
    "# 7. Verify that the round trip conversion from and back to meters is consistent\n",
    "# Im not sure if this is what you were looking for but I did enjoy trying to see how far the nesting could go lol\n",
    "height_in_m(6, 3)"
   ]
  },
  {
   "cell_type": "code",
   "execution_count": 210,
   "id": "02945755-c124-487d-8084-acf3b1a8520f",
   "metadata": {},
   "outputs": [
    {
     "data": {
      "text/plain": [
       "[6, 3.0]"
      ]
     },
     "execution_count": 210,
     "metadata": {},
     "output_type": "execute_result"
    }
   ],
   "source": [
    "height_in_ft(height_in_m(6, 3))"
   ]
  },
  {
   "cell_type": "code",
   "execution_count": 211,
   "id": "042763b6-34f6-426a-b251-8d8474dc21de",
   "metadata": {},
   "outputs": [
    {
     "data": {
      "text/plain": [
       "1.905"
      ]
     },
     "execution_count": 211,
     "metadata": {},
     "output_type": "execute_result"
    }
   ],
   "source": [
    "height_in_m(height_in_ft(height_in_m(6, 3))[0], height_in_ft(height_in_m(6, 3))[1])"
   ]
  },
  {
   "cell_type": "code",
   "execution_count": 212,
   "id": "17378d66-449d-47da-8a7a-41796cfee736",
   "metadata": {},
   "outputs": [
    {
     "data": {
      "text/plain": [
       "[6, 3.0]"
      ]
     },
     "execution_count": 212,
     "metadata": {},
     "output_type": "execute_result"
    }
   ],
   "source": [
    "height_in_ft(height_in_m(height_in_ft(height_in_m(6, 3))[0], height_in_ft(height_in_m(6, 3))[1]))"
   ]
  },
  {
   "cell_type": "code",
   "execution_count": 213,
   "id": "269fcceb-a37e-4430-9ab5-eceb718aa61a",
   "metadata": {},
   "outputs": [
    {
     "data": {
      "text/plain": [
       "1.905"
      ]
     },
     "execution_count": 213,
     "metadata": {},
     "output_type": "execute_result"
    }
   ],
   "source": [
    "height_in_m(height_in_ft(height_in_m(height_in_ft(height_in_m(6, 3))[0], height_in_ft(height_in_m(6, 3))[1]))[0], \n",
    "            height_in_ft(height_in_m(height_in_ft(height_in_m(6, 3))[0], height_in_ft(height_in_m(6, 3))[1]))[1])"
   ]
  },
  {
   "cell_type": "code",
   "execution_count": 214,
   "id": "6f575c7c-f946-4ac7-81dd-045ab1cf6ffd",
   "metadata": {},
   "outputs": [
    {
     "data": {
      "text/plain": [
       "[6, 3.0]"
      ]
     },
     "execution_count": 214,
     "metadata": {},
     "output_type": "execute_result"
    }
   ],
   "source": [
    "height_in_ft(\n",
    "    height_in_m(\n",
    "        height_in_ft(\n",
    "            height_in_m(\n",
    "                height_in_ft(\n",
    "                    height_in_m(6, 3))[0], \n",
    "                height_in_ft(\n",
    "                    height_in_m(6, 3))[1]))[0], \n",
    "                height_in_ft(\n",
    "                    height_in_m(\n",
    "                        height_in_ft(\n",
    "                            height_in_m(6, 3))[0], \n",
    "                        height_in_ft(\n",
    "                            height_in_m(6, 3))[1]))[1]))"
   ]
  },
  {
   "cell_type": "code",
   "execution_count": null,
   "id": "4d47ab70-e718-466f-a2f3-daf3c32c1464",
   "metadata": {},
   "outputs": [],
   "source": []
  }
 ],
 "metadata": {
  "kernelspec": {
   "display_name": "pangeo23",
   "language": "python",
   "name": "pangeo23"
  },
  "language_info": {
   "codemirror_mode": {
    "name": "ipython",
    "version": 3
   },
   "file_extension": ".py",
   "mimetype": "text/x-python",
   "name": "python",
   "nbconvert_exporter": "python",
   "pygments_lexer": "ipython3",
   "version": "3.11.6"
  }
 },
 "nbformat": 4,
 "nbformat_minor": 5
}
