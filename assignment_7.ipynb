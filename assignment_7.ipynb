{
 "cells": [
  {
   "cell_type": "markdown",
   "id": "e2307a96-eb21-4cad-ac1c-3b1d80c0c61d",
   "metadata": {},
   "source": [
    "# Assignment 7"
   ]
  },
  {
   "cell_type": "code",
   "execution_count": 197,
   "id": "ea9ff002-16b1-409e-a2df-31303d0edbda",
   "metadata": {},
   "outputs": [],
   "source": [
    "# Your task for this assignment is to modify the code we worked on in class to calculate the orbits of a few other \n",
    "# planet-planet-sun configurations. For each case, make the same plots we did in class, namely:\n",
    "\n",
    "# 1) x-y plot of the planet orbits,\n",
    "# 2) 3D plot of planet orbits over time,\n",
    "# 3) distance of planets from sun over time,\n",
    "# 4) distance between the two planets over time,\n",
    "# 5) speed of the planets over time,\n",
    "# 6) animated x-y plot of the orbits\n",
    "\n",
    "import numpy as np\n",
    "import matplotlib.pyplot as plt\n",
    "from scipy.integrate import solve_ivp"
   ]
  },
  {
   "cell_type": "code",
   "execution_count": 198,
   "id": "a3688bde-b5d1-4934-aa6f-3a465669ea45",
   "metadata": {},
   "outputs": [],
   "source": [
    "# define function for sun-planet and planet-planet forces\n",
    "# u[0] u[1] u[2] u[3] u[4] u[5] u[6] u[7]\n",
    "# x1   y1   x2   y2   v1x  v1y  v2x  v2y\n",
    "# G M m1 m2 r1 r2 r12 Δx Δy\n",
    "# q = sun-planet forces\n",
    "\n",
    "def function1(t, u):\n",
    "    f = np.zeros((8,))\n",
    "    f[0] = u[4]\n",
    "    f[1] = u[5]\n",
    "    f[2] = u[6]\n",
    "    f[3] = u[7]\n",
    "    R1 = np.sqrt(u[0]**2 + u[1]**2)\n",
    "    R2 = np.sqrt(u[2]**2 + u[3]**2)\n",
    "    dx = u[0]-u[2]\n",
    "    dy = u[1]-u[3]\n",
    "    R12 = np.sqrt(dx**2 + dy**2)\n",
    "    q1 = -G*Ms/(R1**3)\n",
    "    q2 = -G*Ms/(R2**3)\n",
    "    q12 = -G*Mp2/(R12**3)\n",
    "    q21 = -G*Mp1/(R12**3)\n",
    "    f[4] = q1*u[0] + q12*dx\n",
    "    f[5] = q1*u[1] + q12*dy\n",
    "    f[6] = q2*u[2] - q21*dx\n",
    "    f[7] = q2*u[3] - q21*dy\n",
    "    return f"
   ]
  },
  {
   "cell_type": "code",
   "execution_count": 199,
   "id": "2abd1dd2-ce16-4703-a0b9-4e0e88a814f0",
   "metadata": {},
   "outputs": [],
   "source": [
    "# Constants\n",
    "G = 6.67e-11 # m3 * kg-1 * s-2\n",
    "Ms = 1.98e30  # mass of sun in kg\n",
    "Re = 150e9   # Distance between sun and earth in kilometers\n",
    "k = (4*(np.pi**2)) / (G*Ms) # Constant of Proportionality for Kepler's Law"
   ]
  },
  {
   "cell_type": "code",
   "execution_count": 242,
   "id": "f8d05f6c-5bdc-48bd-a1a0-27c0133a6db8",
   "metadata": {},
   "outputs": [],
   "source": [
    "# Cases\n",
    "if CASE == 1:\n",
    "    Ap1 = 0.5;   # Angle w/ respect to x-axis in radians of planet 1\n",
    "    Ap2 = -0.5;  # Angle w/ respect to x-axis in radians of planet 2\n",
    "    fR2 = 1.0;   # What fraction of planet 1 radius is planet 2's radius?\n",
    "    sv2 = 1.0;   # What sign does planet 2's velocity have?\n",
    "    fv2 = 1.0;   # What fraction of planet 1's velocity is planet 2's velocity?\n",
    "    fM2 = 1.0    # What fraction of planet 1's mass is planet 2's mass?\n",
    "    Mp1 = 0.001*Ms             # mass of planet 1 (kg)\n",
    "    Mp2 = fM2*Mp1              # mass of planet 2\n",
    "    Rp1 = Re                   # Distance between sun and planet 1 (km) \n",
    "    Rp2 = fR2*Rp1              # Distance between sun and planet 2 (km)\n",
    "    Pp1 = np.sqrt(k*(Rp1**3))  # Orbital period of planet 1 (time to orbit in seconds)\n",
    "    Pp2 = np.sqrt(k*(Rp2**3))  # Orbital period of planet 2\n",
    "    Vp1 = (2*np.pi*Rp1)/Pp1    # Orbital velocity of planet 1 (m/s)\n",
    "    Vp2 = (2*np.pi*Rp2)/Pp2    # Orbital velocity of planet 1\n",
    "elif CASE == 2:\n",
    "    Ap1 = 0.0;\n",
    "    Ap2 = 0.0;\n",
    "    fR2 = 1.001;\n",
    "    sv2 = 1.00;\n",
    "    fv2 = 2.11;\n",
    "    fM2 = 0.01\n",
    "    Mp1 = 0.001*Ms  \n",
    "    Mp2 = fM2*Mp1           \n",
    "    Rp1 = Re         \n",
    "    Rp2 = fR2*Rp1            \n",
    "    Pp1 = np.sqrt(k*(Rp1**3)) \n",
    "    Pp2 = np.sqrt(k*(Rp2**3))\n",
    "    Vp1 = (2*np.pi*Rp1)/Pp1   \n",
    "    Vp2 = (2*np.pi*Rp2)/Pp2\n",
    "elif CASE == 3:\n",
    "    Ap1 = 0.0;\n",
    "    Ap2 = 0.032;\n",
    "    fR2 = 0.525;\n",
    "    sv2 = 1.0;\n",
    "    fv2 = 0.808; # Mars Velocity 24077 m/s, Earth velocity 29785 m/s\n",
    "    fM2 = 0.111\n",
    "    Mp1 = 0.001*Ms        \n",
    "    Mp2 = fM2*Mp1           \n",
    "    Rp1 = Re                  \n",
    "    Rp2 = fR2*Rp1             \n",
    "    Pp1 = np.sqrt(k*(Rp1**3))\n",
    "    Pp2 = np.sqrt(k*(Rp2**3))\n",
    "    Vp1 = (2*np.pi*Rp1)/Pp1  \n",
    "    Vp2 = (2*np.pi*Rp2)/Pp2 "
   ]
  },
  {
   "cell_type": "code",
   "execution_count": 246,
   "id": "a916b345-9d46-4484-8671-9a3f1daf297d",
   "metadata": {},
   "outputs": [
    {
     "name": "stdout",
     "output_type": "stream",
     "text": [
      "0.0\n"
     ]
    }
   ],
   "source": [
    "CASE = 1\n",
    "CASE\n",
    "print(Ap1)"
   ]
  },
  {
   "cell_type": "code",
   "execution_count": 244,
   "id": "b0e9dd1f-eadb-44ba-a424-83de352955f4",
   "metadata": {},
   "outputs": [
    {
     "name": "stdout",
     "output_type": "stream",
     "text": [
      "2\n",
      "0.0\n"
     ]
    }
   ],
   "source": [
    "CASE = 2\n",
    "print(CASE)\n",
    "print(Ap1)"
   ]
  },
  {
   "cell_type": "code",
   "execution_count": 245,
   "id": "4e063966-f856-460d-a7a1-840f14603770",
   "metadata": {},
   "outputs": [
    {
     "name": "stdout",
     "output_type": "stream",
     "text": [
      "3\n",
      "0.0\n"
     ]
    }
   ],
   "source": [
    "CASE = 3\n",
    "print(CASE)\n",
    "print(Ap1)"
   ]
  },
  {
   "cell_type": "code",
   "execution_count": 211,
   "id": "ba4d3800-0797-4f55-814b-50c4e11fa161",
   "metadata": {},
   "outputs": [],
   "source": [
    "# Setup the Time Step\n",
    "Dt = 360 # seconds\n",
    "t0 = 0\n",
    "if CASE == 1:\n",
    "    tmax = 20 * Pp1  # Update for CASE 1\n",
    "elif CASE == 2:\n",
    "    tmax = 20 * Pp1  # Update for CASE 2\n",
    "elif CASE == 3:\n",
    "    tmax = 20 * Pp1  # Update for CASE 3\n",
    "t = np.arange(t0, tmax, Dt)"
   ]
  },
  {
   "cell_type": "code",
   "execution_count": 212,
   "id": "8a467974-95af-4fc1-a95b-e00c2972b305",
   "metadata": {},
   "outputs": [
    {
     "data": {
      "text/plain": [
       "  message: The solver successfully reached the end of the integration interval.\n",
       "  success: True\n",
       "   status: 0\n",
       "        t: [ 0.000e+00  3.600e+02 ...  6.353e+08  6.353e+08]\n",
       "        y: [[ 1.500e+11  1.500e+11 ...  1.500e+11  1.500e+11]\n",
       "            [ 0.000e+00  1.068e+07 ...  1.784e+09  1.794e+09]\n",
       "            ...\n",
       "            [ 0.000e+00 -7.653e+00 ...  2.314e+04  2.313e+04]\n",
       "            [ 3.309e+04  3.309e+04 ...  2.738e+04  2.738e+04]]\n",
       "      sol: None\n",
       " t_events: None\n",
       " y_events: None\n",
       "     nfev: 9233\n",
       "     njev: 0\n",
       "      nlu: 0"
      ]
     },
     "execution_count": 212,
     "metadata": {},
     "output_type": "execute_result"
    }
   ],
   "source": [
    "# Case 1\n",
    "CASE = 1\n",
    "u0_case1 = np.zeros((8,))\n",
    "u0_case1[0] = np.cos(Ap1)*Rp1\n",
    "u0_case1[1] = np.sin(Ap1)*Rp1\n",
    "u0_case1[2] = np.cos(Ap2)*Rp2\n",
    "u0_case1[3] = np.sin(Ap2)*Rp2\n",
    "u0_case1[4] = 0\n",
    "u0_case1[5] = Vp1\n",
    "u0_case1[6] = 0\n",
    "u0_case1[7] = fv2*sv2*Vp2\n",
    "solve1 = solve_ivp(function1, [t0, tmax], u0_case1, method='DOP853', t_eval=t)\n",
    "solve1"
   ]
  },
  {
   "cell_type": "code",
   "execution_count": 213,
   "id": "550f7811-8d12-493c-99c8-e028caa734f2",
   "metadata": {},
   "outputs": [
    {
     "data": {
      "text/plain": [
       "  message: The solver successfully reached the end of the integration interval.\n",
       "  success: True\n",
       "   status: 0\n",
       "        t: [ 0.000e+00  3.600e+02 ...  6.353e+08  6.353e+08]\n",
       "        y: [[ 1.500e+11  1.500e+11 ...  1.500e+11  1.500e+11]\n",
       "            [ 0.000e+00  1.068e+07 ...  1.784e+09  1.794e+09]\n",
       "            ...\n",
       "            [ 0.000e+00 -7.653e+00 ...  2.314e+04  2.313e+04]\n",
       "            [ 3.309e+04  3.309e+04 ...  2.738e+04  2.738e+04]]\n",
       "      sol: None\n",
       " t_events: None\n",
       " y_events: None\n",
       "     nfev: 9233\n",
       "     njev: 0\n",
       "      nlu: 0"
      ]
     },
     "execution_count": 213,
     "metadata": {},
     "output_type": "execute_result"
    }
   ],
   "source": [
    "# Case 2\n",
    "CASE = 2\n",
    "u0_case2 = np.zeros((8,))\n",
    "u0_case2[0] = np.cos(Ap1)*Rp1\n",
    "u0_case2[1] = np.sin(Ap1)*Rp1\n",
    "u0_case2[2] = np.cos(Ap2)*Rp2\n",
    "u0_case2[3] = np.sin(Ap2)*Rp2\n",
    "u0_case2[4] = 0\n",
    "u0_case2[5] = Vp1\n",
    "u0_case2[6] = 0\n",
    "u0_case2[7] = fv2*sv2*Vp2\n",
    "solve2 = solve_ivp(function1, [t0, tmax], u0_case2, method='DOP853', t_eval=t)\n",
    "solve2"
   ]
  },
  {
   "cell_type": "code",
   "execution_count": 214,
   "id": "80b786c6-c5b8-4c05-a66b-bc2dcc3eb5a2",
   "metadata": {},
   "outputs": [
    {
     "data": {
      "text/plain": [
       "  message: The solver successfully reached the end of the integration interval.\n",
       "  success: True\n",
       "   status: 0\n",
       "        t: [ 0.000e+00  3.600e+02 ...  6.353e+08  6.353e+08]\n",
       "        y: [[ 1.500e+11  1.500e+11 ...  1.500e+11  1.500e+11]\n",
       "            [ 0.000e+00  1.068e+07 ...  1.784e+09  1.794e+09]\n",
       "            ...\n",
       "            [ 0.000e+00 -7.653e+00 ...  2.314e+04  2.313e+04]\n",
       "            [ 3.309e+04  3.309e+04 ...  2.738e+04  2.738e+04]]\n",
       "      sol: None\n",
       " t_events: None\n",
       " y_events: None\n",
       "     nfev: 9233\n",
       "     njev: 0\n",
       "      nlu: 0"
      ]
     },
     "execution_count": 214,
     "metadata": {},
     "output_type": "execute_result"
    }
   ],
   "source": [
    "# Case 3\n",
    "CASE = 3\n",
    "u0_case3 = np.zeros((8,))\n",
    "u0_case3[0] = np.cos(Ap1)*Rp1\n",
    "u0_case3[1] = np.sin(Ap1)*Rp1\n",
    "u0_case3[2] = np.cos(Ap2)*Rp2\n",
    "u0_case3[3] = np.sin(Ap2)*Rp2\n",
    "u0_case3[4] = 0\n",
    "u0_case3[5] = Vp1\n",
    "u0_case3[6] = 0\n",
    "u0_case3[7] = fv2*sv2*Vp2\n",
    "solve3 = solve_ivp(function1, [t0, tmax], u0_case3, method='DOP853', t_eval=t)\n",
    "solve3"
   ]
  },
  {
   "cell_type": "code",
   "execution_count": 196,
   "id": "2c9f870b-f84b-4b02-af3c-9127cd3eae88",
   "metadata": {},
   "outputs": [
    {
     "data": {
      "text/plain": [
       "Text(0.5, 1.0, 'CASE 3')"
      ]
     },
     "execution_count": 196,
     "metadata": {},
     "output_type": "execute_result"
    },
    {
     "data": {
      "image/png": "[encoded data removed]",
      "text/plain": [
       "<Figure size 1500x400 with 3 Axes>"
      ]
     },
     "metadata": {},
     "output_type": "display_data"
    }
   ],
   "source": [
    "fig,axes = plt.subplots(ncols=3, figsize=(15,4))\n",
    "axes[0].plot(0,0, 'ko', lw=2)\n",
    "axes[0].plot(solve1.y[0]/1000, solve1.y[1]/1000, 'g-', lw=1) # Planet 1\n",
    "axes[0].plot(solve1.y[2]/1000, solve1.y[3]/1000, 'r-', lw=1) # Planet 2\n",
    "axes[0].set_xlabel('x (km)')\n",
    "axes[0].set_ylabel('y (km)')\n",
    "axes[0].set_title('CASE 1')\n",
    "\n",
    "axes[1].plot(0,0, 'ko', lw=2)\n",
    "axes[1].plot(solve2.y[0]/1000, solve2.y[1]/1000, 'g-', lw=1) # Planet 1\n",
    "axes[1].plot(solve2.y[2]/1000, solve2.y[3]/1000, 'r-', lw=1) # Planet 2\n",
    "axes[1].set_xlabel('x (km)')\n",
    "axes[1].set_title('CASE 2')\n",
    "\n",
    "axes[2].plot(0,0, 'ko', lw=2)\n",
    "axes[2].plot(solve3.y[0]/1000, solve3.y[1]/1000, 'g-', lw=1) # Planet 1\n",
    "axes[2].plot(solve3.y[2]/1000, solve3.y[3]/1000, 'r-', lw=1) # Planet 2\n",
    "axes[2].set_xlabel('x (km)')\n",
    "axes[2].set_title('CASE 3')"
   ]
  },
  {
   "cell_type": "code",
   "execution_count": null,
   "id": "2b1c8216-e895-47aa-9edf-139dc72127f8",
   "metadata": {},
   "outputs": [],
   "source": []
  }
 ],
 "metadata": {
  "kernelspec": {
   "display_name": "pangeo23",
   "language": "python",
   "name": "pangeo23"
  },
  "language_info": {
   "codemirror_mode": {
    "name": "ipython",
    "version": 3
   },
   "file_extension": ".py",
   "mimetype": "text/x-python",
   "name": "python",
   "nbconvert_exporter": "python",
   "pygments_lexer": "ipython3",
   "version": "3.11.6"
  }
 },
 "nbformat": 4,
 "nbformat_minor": 5
}
