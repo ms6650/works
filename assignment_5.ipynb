{
 "cells": [
  {
   "cell_type": "markdown",
   "id": "57fdf913-6054-4b21-88b9-27b260c367c8",
   "metadata": {},
   "source": [
    "# Assignment 5"
   ]
  },
  {
   "cell_type": "code",
   "execution_count": 38,
   "id": "05c1a1c7-987f-4d55-9972-968972816f75",
   "metadata": {},
   "outputs": [],
   "source": [
    "# 1. Load the file /data9/UN3400/data/brf_temp.txt. This file contains time (in days) and air temperature \n",
    "# at Black Rock Forest over the course of a year. \n",
    "\n",
    "import numpy as np\n",
    "import statsmodels.api as smod\n",
    "from matplotlib import pyplot as plt\n",
    "from scipy import optimize\n",
    "\n",
    "data = np.genfromtxt('/data9/UN3400/data/brf_temp.txt', delimiter = '\\t')"
   ]
  },
  {
   "cell_type": "code",
   "execution_count": 30,
   "id": "639b26a1-5cde-4c57-9405-502659773461",
   "metadata": {},
   "outputs": [],
   "source": [
    "# 2. Use the least squares method to fit a model to this data. Do this first with numpy only \n",
    "# (as in class) and then verify your answer with either SciPy or statsmodels. "
   ]
  },
  {
   "cell_type": "code",
   "execution_count": 47,
   "id": "49b6ed3b-87ac-4d5e-9b60-be88e8fe501a",
   "metadata": {},
   "outputs": [],
   "source": [
    "# Setup G matrix:\n",
    "# Polynomial model (cubic):\n",
    "M = 4; # number of terms in the polynomial\n",
    "\n",
    "# Generate G variable\n",
    "G = np.zeros((N,M));\n",
    "G[0:N,0:1] = np.ones((N,1));\n",
    "G[0:N,1:2] = t;\n",
    "G[0:N,2:3] = np.power(t,2);\n",
    "G[0:N,3:4] = np.power(t,3);"
   ]
  },
  {
   "cell_type": "code",
   "execution_count": 48,
   "id": "7f92a091-acfe-401f-ad5f-c6d9e25ab0cc",
   "metadata": {},
   "outputs": [],
   "source": [
    "# Indentify time and observed-data columns:\n",
    "# Break out columns of table:\n",
    "t = np.copy(data[0:N,0:1] );\n",
    "dobs = np.copy(data[0:N,1:2] );\n",
    "\n",
    "# X-axis info:\n",
    "tmin = np.min(t);\n",
    "tmax = np.max(t);"
   ]
  },
  {
   "cell_type": "code",
   "execution_count": 49,
   "id": "6f601e29-554c-40ec-8810-a4cfc834d319",
   "metadata": {},
   "outputs": [],
   "source": [
    "# Basic Least Squares Regression\n",
    "GTG = np.matmul(G.T, G);\n",
    "GTd = np.matmul(G.T, dobs);\n",
    "mest = np.linalg.lstsq(GTG, GTd, rcond=None)[0]  "
   ]
  },
  {
   "cell_type": "code",
   "execution_count": 50,
   "id": "246e6720-1926-44cc-9a91-e9d8f51bd50c",
   "metadata": {},
   "outputs": [
    {
     "data": {
      "text/plain": [
       "array([[-1.93654204e-04],\n",
       "       [-9.38347359e-03],\n",
       "       [ 1.19380205e-03],\n",
       "       [-3.43350967e-06]])"
      ]
     },
     "execution_count": 50,
     "metadata": {},
     "output_type": "execute_result"
    }
   ],
   "source": [
    "mest"
   ]
  },
  {
   "cell_type": "code",
   "execution_count": 102,
   "id": "fdcc16e0-5b16-4c82-a627-7721eda246f0",
   "metadata": {},
   "outputs": [],
   "source": [
    "# Estinated Ancillary Information\n",
    "# P = Period\n",
    "# dpre = Prediction\n",
    "# e    = Prediction error\n",
    "# E    = Total error\n",
    "# sig2 = Data variance\n",
    "# C    = Covariance matrix\n",
    "# sm   = Confidence limits\n",
    "dpre = np.matmul(G, mest);\n",
    "e = dobs - dpre;\n",
    "E = np.matmul(e.T, e);\n",
    "sig2 = E / (N - M);\n",
    "Cd = sig2 * np.linalg.inv(GTG)\n",
    "sm = 2.0 * np.sqrt(np.diag(Cd).reshape(-1,1))"
   ]
  },
  {
   "cell_type": "code",
   "execution_count": 103,
   "id": "090af257-e603-46e3-b0f3-6870c8a81742",
   "metadata": {},
   "outputs": [
    {
     "data": {
      "text/plain": [
       "array([[4.99273420e-01],\n",
       "       [1.18916984e-02],\n",
       "       [7.59790229e-05],\n",
       "       [1.36961730e-07]])"
      ]
     },
     "execution_count": 103,
     "metadata": {},
     "output_type": "execute_result"
    }
   ],
   "source": [
    "sm"
   ]
  },
  {
   "cell_type": "code",
   "execution_count": 104,
   "id": "4f34fe58-1a54-4c33-a0aa-b5eb3cfcbdcc",
   "metadata": {},
   "outputs": [
    {
     "name": "stdout",
     "output_type": "stream",
     "text": [
      "Estimated Standard Deviation of the data: 5.8342\n",
      " \n",
      "Estimated Solution\n",
      "Model Parameter 0: -0.0002 +/- 0.4993 (95)\n",
      "Model Parameter 1: -0.0094 +/- 0.0119 (95)\n",
      "Model Parameter 2: 0.0012 +/- 0.0001 (95)\n",
      "Model Parameter 3: -0.0000 +/- 0.0000 (95)\n"
     ]
    },
    {
     "name": "stderr",
     "output_type": "stream",
     "text": [
      "/tmp/ipykernel_167287/2591701960.py:2: DeprecationWarning: Conversion of an array with ndim > 0 to a scalar is deprecated, and will error in future. Ensure you extract a single element from your array before performing this operation. (Deprecated NumPy 1.25.)\n",
      "  print(\"Estimated Standard Deviation of the data: %.4f\" % (np.sqrt(sig2)))\n"
     ]
    }
   ],
   "source": [
    "# Print out solution and confidence limits:\n",
    "print(\"Estimated Standard Deviation of the data: %.4f\" % (np.sqrt(sig2)))\n",
    "print(\" \");\n",
    "print(\"Estimated Solution\");\n",
    "for i in range(M):\n",
    "    print(\"Model Parameter %d: %.4f +/- %.4f (95)\" % (i,mest[i,0],sm[i,0]))"
   ]
  },
  {
   "cell_type": "code",
   "execution_count": null,
   "id": "0fa1940b-52dd-44e3-83ac-f41ab7449e99",
   "metadata": {},
   "outputs": [],
   "source": []
  },
  {
   "cell_type": "code",
   "execution_count": 105,
   "id": "5066d814-ca35-42e7-a88e-8eea98fa10e5",
   "metadata": {},
   "outputs": [
    {
     "data": {
      "text/plain": [
       "<matplotlib.legend.Legend at 0x79d1b0d26c50>"
      ]
     },
     "execution_count": 105,
     "metadata": {},
     "output_type": "execute_result"
    },
    {
     "data": {
      "image/png": "[encoded data removed]",
      "text/plain": [
       "<Figure size 640x480 with 1 Axes>"
      ]
     },
     "metadata": {},
     "output_type": "display_data"
    }
   ],
   "source": [
    "# Visualize to look for errors:\n",
    "fig,ax = plt.subplots()\n",
    "plt.axis([np.min(t), np.max(t), -40,40] )\n",
    "plt.plot(t, dobs, 'ro')\n",
    "plt.plot(t, dpre, 'k-', linewidth = 2.5)\n",
    "plt.xlabel('t')\n",
    "plt.ylabel('d')\n",
    "plt.title('Seasonal Data: Observed (black), Predicted (red)') \n",
    "plt.legend(['Observed', 'Predicted'], loc = 'lower left')"
   ]
  },
  {
   "cell_type": "code",
   "execution_count": 93,
   "id": "4e966b34-8f06-446d-9add-927505b3d903",
   "metadata": {},
   "outputs": [
    {
     "data": {
      "text/plain": [
       "array([ 1.44401630e-01,  3.48483980e-04, -2.08041857e-06, -7.45702953e+00])"
      ]
     },
     "execution_count": 93,
     "metadata": {},
     "output_type": "execute_result"
    }
   ],
   "source": [
    "# Verift with SciPy / statsmodels:\n",
    "def linfunc(x, a, b, c, d):\n",
    "    y = a*x + b*x**2 + c*x**3 + d\n",
    "    return y\n",
    "\n",
    "mest_ez = optimize.curve_fit(linfunc, xdata = data[:,0], \n",
    "                             ydata = data[:,1])[0]"
   ]
  },
  {
   "cell_type": "code",
   "execution_count": 94,
   "id": "12d2fafe-d8ba-45a9-a487-80cafa13d7cd",
   "metadata": {},
   "outputs": [
    {
     "name": "stdout",
     "output_type": "stream",
     "text": [
      "[[-1.93654204e-04]\n",
      " [-9.38347359e-03]\n",
      " [ 1.19380205e-03]\n",
      " [-3.43350967e-06]]\n",
      " \n",
      "[ 1.44401630e-01  3.48483980e-04 -2.08041857e-06 -7.45702953e+00]\n"
     ]
    }
   ],
   "source": [
    "print(mest)\n",
    "print(\" \")\n",
    "print(mest_ez)"
   ]
  },
  {
   "cell_type": "code",
   "execution_count": 91,
   "id": "23b14e95-7340-488c-af43-b490396f1f76",
   "metadata": {},
   "outputs": [
    {
     "name": "stdout",
     "output_type": "stream",
     "text": [
      "                            OLS Regression Results                            \n",
      "==============================================================================\n",
      "Dep. Variable:                      y   R-squared:                       0.700\n",
      "Model:                            OLS   Adj. R-squared:                  0.700\n",
      "Method:                 Least Squares   F-statistic:                     6690.\n",
      "Date:                Fri, 13 Dec 2024   Prob (F-statistic):               0.00\n",
      "Time:                        12:52:56   Log-Likelihood:                -26850.\n",
      "No. Observations:                8585   AIC:                         5.371e+04\n",
      "Df Residuals:                    8581   BIC:                         5.374e+04\n",
      "Df Model:                           3                                         \n",
      "Covariance Type:            nonrobust                                         \n",
      "==============================================================================\n",
      "                 coef    std err          t      P>|t|      [0.025      0.975]\n",
      "------------------------------------------------------------------------------\n",
      "const         -7.4570      0.236    -31.557      0.000      -7.920      -6.994\n",
      "x1             0.1444      0.006     25.657      0.000       0.133       0.155\n",
      "x2             0.0003    3.6e-05      9.691      0.000       0.000       0.000\n",
      "x3          -2.08e-06   6.48e-08    -32.094      0.000   -2.21e-06   -1.95e-06\n",
      "==============================================================================\n",
      "Omnibus:                       66.006   Durbin-Watson:                   0.028\n",
      "Prob(Omnibus):                  0.000   Jarque-Bera (JB):               67.101\n",
      "Skew:                           0.211   Prob(JB):                     2.69e-15\n",
      "Kurtosis:                       2.907   Cond. No.                     7.30e+07\n",
      "==============================================================================\n",
      "\n",
      "Notes:\n",
      "[1] Standard Errors assume that the covariance matrix of the errors is correctly specified.\n",
      "[2] The condition number is large, 7.3e+07. This might indicate that there are\n",
      "strong multicollinearity or other numerical problems.\n"
     ]
    }
   ],
   "source": [
    "result = smod.OLS(dobs, G).fit()\n",
    "print(result.summary())"
   ]
  },
  {
   "cell_type": "code",
   "execution_count": null,
   "id": "30417634-e415-4b23-b546-e67770010ac5",
   "metadata": {},
   "outputs": [],
   "source": [
    "# 3. Calculate the model parameters and the standard error of the model parameters \n",
    "# assuming this functional form: d(pre) = A*cos((2pi/P)*t) + B*sin((2pi/P)*t) + C\n",
    "# Where A, B, C are model parameters, dpre is the model prediction, t is time, and P (period) = 365.25"
   ]
  },
  {
   "cell_type": "code",
   "execution_count": 100,
   "id": "dc860c25-c9a8-4128-a7ba-4d00b68cca58",
   "metadata": {},
   "outputs": [
    {
     "name": "stderr",
     "output_type": "stream",
     "text": [
      "/tmp/ipykernel_167287/332712485.py:5: OptimizeWarning: Covariance of the parameters could not be estimated\n",
      "  mestx = optimize.curve_fit(linfunc, xdata = data[:,0],\n"
     ]
    },
    {
     "ename": "ValueError",
     "evalue": "operands could not be broadcast together with shapes (8585,8585) (4,4) ",
     "output_type": "error",
     "traceback": [
      "\u001b[0;31m---------------------------------------------------------------------------\u001b[0m",
      "\u001b[0;31mValueError\u001b[0m                                Traceback (most recent call last)",
      "Cell \u001b[0;32mIn[100], line 12\u001b[0m\n\u001b[1;32m     10\u001b[0m Ex \u001b[38;5;241m=\u001b[39m np\u001b[38;5;241m.\u001b[39mmatmul(ex\u001b[38;5;241m.\u001b[39mT, ex);\n\u001b[1;32m     11\u001b[0m sig2x \u001b[38;5;241m=\u001b[39m Ex \u001b[38;5;241m/\u001b[39m (N \u001b[38;5;241m-\u001b[39m M);\n\u001b[0;32m---> 12\u001b[0m Cdx \u001b[38;5;241m=\u001b[39m \u001b[43msig2x\u001b[49m\u001b[43m \u001b[49m\u001b[38;5;241;43m*\u001b[39;49m\u001b[43m \u001b[49m\u001b[43mnp\u001b[49m\u001b[38;5;241;43m.\u001b[39;49m\u001b[43mlinalg\u001b[49m\u001b[38;5;241;43m.\u001b[39;49m\u001b[43minv\u001b[49m\u001b[43m(\u001b[49m\u001b[43mGTG\u001b[49m\u001b[43m)\u001b[49m\n\u001b[1;32m     13\u001b[0m smx \u001b[38;5;241m=\u001b[39m \u001b[38;5;241m2.0\u001b[39m \u001b[38;5;241m*\u001b[39m np\u001b[38;5;241m.\u001b[39msqrt(np\u001b[38;5;241m.\u001b[39mdiag(Cdx)\u001b[38;5;241m.\u001b[39mreshape(\u001b[38;5;241m-\u001b[39m\u001b[38;5;241m1\u001b[39m,\u001b[38;5;241m1\u001b[39m))\n",
      "\u001b[0;31mValueError\u001b[0m: operands could not be broadcast together with shapes (8585,8585) (4,4) "
     ]
    }
   ],
   "source": [
    "def linfunc(A, B, C, t, P):\n",
    "    dpre2 = A*np.cos(((2*np.pi)/P)*t) + B*np.sin((2*np.pi)*t) + C\n",
    "    return dpre2\n",
    "\n",
    "mestx = optimize.curve_fit(linfunc, xdata = data[:,0], \n",
    "                             ydata = data[:,1])[0]\n",
    "\n",
    "dprex = np.matmul(G, mestx);\n",
    "ex = dobs - dprex;\n",
    "Ex = np.matmul(ex.T, ex);\n",
    "sig2x = Ex / (N - M);\n",
    "Cdx = sig2x * np.linalg.inv(GTG)\n",
    "smx = 2.0 * np.sqrt(np.diag(Cdx).reshape(-1,1))"
   ]
  },
  {
   "cell_type": "code",
   "execution_count": 101,
   "id": "473577f2-4180-4cd3-b9c5-7897c4f54e5a",
   "metadata": {},
   "outputs": [
    {
     "ename": "TypeError",
     "evalue": "only length-1 arrays can be converted to Python scalars",
     "output_type": "error",
     "traceback": [
      "\u001b[0;31m---------------------------------------------------------------------------\u001b[0m",
      "\u001b[0;31mTypeError\u001b[0m                                 Traceback (most recent call last)",
      "Cell \u001b[0;32mIn[101], line 2\u001b[0m\n\u001b[1;32m      1\u001b[0m \u001b[38;5;66;03m# Print out solution and confidence limits:\u001b[39;00m\n\u001b[0;32m----> 2\u001b[0m \u001b[38;5;28mprint\u001b[39m(\u001b[38;5;124;43m\"\u001b[39;49m\u001b[38;5;124;43mEstimated Standard Deviation of the data: \u001b[39;49m\u001b[38;5;132;43;01m%.4f\u001b[39;49;00m\u001b[38;5;124;43m\"\u001b[39;49m\u001b[43m \u001b[49m\u001b[38;5;241;43m%\u001b[39;49m\u001b[43m \u001b[49m\u001b[43m(\u001b[49m\u001b[43mnp\u001b[49m\u001b[38;5;241;43m.\u001b[39;49m\u001b[43msqrt\u001b[49m\u001b[43m(\u001b[49m\u001b[43msig2x\u001b[49m\u001b[43m)\u001b[49m\u001b[43m)\u001b[49m)\n\u001b[1;32m      3\u001b[0m \u001b[38;5;28mprint\u001b[39m(\u001b[38;5;124m\"\u001b[39m\u001b[38;5;124m \u001b[39m\u001b[38;5;124m\"\u001b[39m);\n\u001b[1;32m      4\u001b[0m \u001b[38;5;28mprint\u001b[39m(\u001b[38;5;124m\"\u001b[39m\u001b[38;5;124mEstimated Solution\u001b[39m\u001b[38;5;124m\"\u001b[39m);\n",
      "\u001b[0;31mTypeError\u001b[0m: only length-1 arrays can be converted to Python scalars"
     ]
    }
   ],
   "source": [
    "# Print out solution and confidence limits:\n",
    "print(\"Estimated Standard Deviation of the data: %.4f\" % (np.sqrt(sig2x)))\n",
    "print(\" \");\n",
    "print(\"Estimated Solution\");\n",
    "for i in range(M):\n",
    "    print(\"Model Parameter %d: %.4f +/- %.4f (95)\" % (i,mestx[i,0],smx[i,0]))"
   ]
  },
  {
   "cell_type": "code",
   "execution_count": null,
   "id": "83aec09d-9d7a-4a07-85be-77cafac570ca",
   "metadata": {},
   "outputs": [],
   "source": [
    "# 4. What is the amplitude D of the seasonal cycle? \n",
    "# D = sqrt(A**2 + B**2)"
   ]
  },
  {
   "cell_type": "code",
   "execution_count": null,
   "id": "872d2d2a-0df2-4adb-8e18-8dcece17bdab",
   "metadata": {},
   "outputs": [],
   "source": [
    "# 5. When is the peak t_max of the seasonal cycle? "
   ]
  },
  {
   "cell_type": "code",
   "execution_count": null,
   "id": "9dd3ead9-3a67-4bda-83d8-b438dcafc137",
   "metadata": {},
   "outputs": [],
   "source": [
    "# 6. Plot the model prediction and the observed data versus time on the same plot. Also plot the errors versus time. "
   ]
  }
 ],
 "metadata": {
  "kernelspec": {
   "display_name": "pangeo23",
   "language": "python",
   "name": "pangeo23"
  },
  "language_info": {
   "codemirror_mode": {
    "name": "ipython",
    "version": 3
   },
   "file_extension": ".py",
   "mimetype": "text/x-python",
   "name": "python",
   "nbconvert_exporter": "python",
   "pygments_lexer": "ipython3",
   "version": "3.11.6"
  }
 },
 "nbformat": 4,
 "nbformat_minor": 5
}
